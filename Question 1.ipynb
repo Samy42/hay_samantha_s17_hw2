{
 "cells": [
  {
   "cell_type": "markdown",
   "metadata": {},
   "source": [
    "# Question 1\n",
    "* Learn and understand Zipf’s Law.\n",
    "* Pick any file (or files) in NLTK package.\n",
    "* Prove if Zipf’s Law works in Natural Language or not.\n",
    "##### REQUIREMNTS: (Must Do)\n",
    "* Use ’glob’ to open and read file. If read multiple files use LOOP to achieve.\n",
    "* Create at least one function and one lambda function.\n",
    "* Save your data as an CSV file contains (Word, Rank, Frequency) with TITLE and Sort it by RANK.\n",
    "* Open your CSV file, generate a log-log figure according to the data you saved.\n",
    "* Write a conclusion at the end of your code base on your figure. \n",
    "* (Optional) Use ‘matplotlib’ to generate a log-log figure in your code."
   ]
  },
  {
   "cell_type": "code",
   "execution_count": 1,
   "metadata": {
    "collapsed": false
   },
   "outputs": [],
   "source": [
    "import nltk\n",
    "import re\n",
    "from operator import itemgetter\n",
    "import numpy\n",
    "import matplotlib.pyplot as plt\n",
    "from glob import glob\n",
    "import math"
   ]
  },
  {
   "cell_type": "code",
   "execution_count": 2,
   "metadata": {
    "collapsed": true
   },
   "outputs": [],
   "source": [
    "# this function takes in a text file and outputs a list of words from that file\n",
    "def txt2words(path):\n",
    "    file = glob(path)\n",
    "    with open(file[0],'r') as f:\n",
    "        words = [word for line in f for word in line.split()]\n",
    "    f.close()\n",
    "    return words"
   ]
  },
  {
   "cell_type": "code",
   "execution_count": 3,
   "metadata": {
    "collapsed": false
   },
   "outputs": [],
   "source": [
    "book = txt2words(str(nltk.corpus.gutenberg.root)+ '\\melville-moby_dick.txt')"
   ]
  },
  {
   "cell_type": "code",
   "execution_count": 4,
   "metadata": {
    "collapsed": true
   },
   "outputs": [],
   "source": [
    "#eliminate any words that do not consist of letters of the alphabet\n",
    "words = [w for w in book if w.isalpha()]"
   ]
  },
  {
   "cell_type": "code",
   "execution_count": 5,
   "metadata": {
    "collapsed": true
   },
   "outputs": [],
   "source": [
    "#make a seperate list of each unique word in the file\n",
    "uniquewords = list(set(words))"
   ]
  },
  {
   "cell_type": "code",
   "execution_count": 6,
   "metadata": {
    "collapsed": false
   },
   "outputs": [],
   "source": [
    "#make a list of lists, with each submist consisting of\n",
    "#a rank placeholder, word, and frequency\n",
    "\n",
    "zipf = []\n",
    "temp=[0]\n",
    "for w in uniquewords:\n",
    "    temp[0] = [0,w,words.count(w)]\n",
    "    zipf.append(temp[0])"
   ]
  },
  {
   "cell_type": "code",
   "execution_count": 7,
   "metadata": {
    "collapsed": false
   },
   "outputs": [],
   "source": [
    "#sort the list by the frequency of the word\n",
    "zipf = sorted(zipf,key=itemgetter(2), reverse = True)"
   ]
  },
  {
   "cell_type": "code",
   "execution_count": 8,
   "metadata": {
    "collapsed": true
   },
   "outputs": [],
   "source": [
    "#the number of words in the file is the length of the list of words in the file\n",
    "numwords = len(words)"
   ]
  },
  {
   "cell_type": "code",
   "execution_count": 9,
   "metadata": {
    "collapsed": true
   },
   "outputs": [],
   "source": [
    "#define a lambda function for calculating logarithmns in base 10\n",
    "log = (lambda x:math.log10(x))"
   ]
  },
  {
   "cell_type": "code",
   "execution_count": 10,
   "metadata": {
    "collapsed": false
   },
   "outputs": [],
   "source": [
    "#fully create a 2D list with 1 entry per word, sorted by word frequency\n",
    "#each entry is in the format: \n",
    "#[word rank, word, frequency, rank*P(word), log(rank),log(frequency)]\n",
    "\n",
    "for i in range(len(zipf)):\n",
    "    zipf[i][0] = i + 1 #rank\n",
    "    zipf[i].append((zipf[i][0]) * (zipf[i][2])/numwords) # r*P(r)\n",
    "    zipf[i].append(log(zipf[i][0])) #log(r)\n",
    "    zipf[i].append(log((zipf[i][2]))) #log(freq(r))"
   ]
  },
  {
   "cell_type": "code",
   "execution_count": 11,
   "metadata": {
    "collapsed": false
   },
   "outputs": [
    {
     "name": "stdout",
     "output_type": "stream",
     "text": [
      "Standard Deviation of (r*freq(r))/N for all r is:0.0137582523702\n"
     ]
    }
   ],
   "source": [
    "#create an array of the r*p(r) values, which is at index 4 of the zipf array\n",
    "zipfcalc=[0]*len(zipf)\n",
    "for n in range(len(zipf)):\n",
    "    zipfcalc[n] = zipf[n][3]\n",
    "    \n",
    "#calculate the standard deviation of this array\n",
    "print(\"Standard Deviation of (r*freq(r))/N for all r is:\" + str(numpy.std(zipfcalc)))"
   ]
  },
  {
   "cell_type": "markdown",
   "metadata": {},
   "source": [
    "##### Conclusion:\n",
    "As the standard deviation is close to zero, this approximately follows Zipf's law. This is because Zipf's law states that r\\*P(r) = A\\*N, which means (r\\*freq(r))/N = A for all words. This A is constant across the data set if the standard deviation of (r\\*freq(r))/N for all values of r is close to zero"
   ]
  },
  {
   "cell_type": "markdown",
   "metadata": {},
   "source": [
    "### Outputting this Data to a CSV for Storage and Further Analysis"
   ]
  },
  {
   "cell_type": "code",
   "execution_count": 12,
   "metadata": {
    "collapsed": false
   },
   "outputs": [],
   "source": [
    "#open file or create it if the file does not exist\n",
    "f = open(\"Q1output.csv\",\"w+\")"
   ]
  },
  {
   "cell_type": "code",
   "execution_count": 13,
   "metadata": {
    "collapsed": false
   },
   "outputs": [
    {
     "data": {
      "text/plain": [
       "54"
      ]
     },
     "execution_count": 13,
     "metadata": {},
     "output_type": "execute_result"
    }
   ],
   "source": [
    "#write header for file\n",
    "f.write(\"Rank(w), Word, Freq(w), r*P(w), log(r), log(Freq(w)) \\n\")"
   ]
  },
  {
   "cell_type": "code",
   "execution_count": 14,
   "metadata": {
    "collapsed": false
   },
   "outputs": [],
   "source": [
    "#write the 2D zipf list to the file\n",
    "\n",
    "for i in range(len(zipf)):\n",
    "    for j in range(len(zipf[0])):\n",
    "        f.write(str(zipf[i][j]) + \",\")\n",
    "    f.write(\"\\n\")"
   ]
  },
  {
   "cell_type": "code",
   "execution_count": 15,
   "metadata": {
    "collapsed": false
   },
   "outputs": [],
   "source": [
    "#close the file\n",
    "f.close()"
   ]
  },
  {
   "cell_type": "markdown",
   "metadata": {},
   "source": [
    "## Plot Zipf's Law"
   ]
  },
  {
   "cell_type": "code",
   "execution_count": 16,
   "metadata": {
    "collapsed": false
   },
   "outputs": [],
   "source": [
    "#create x and y lists for log(r) and log(freq(r))\n",
    "logr = []\n",
    "logfreqr = []\n",
    "for i in range(len(zipf)):\n",
    "    logr.append(zipf[i][4])\n",
    "    logfreqr.append(zipf[i][5])"
   ]
  },
  {
   "cell_type": "code",
   "execution_count": 17,
   "metadata": {
    "collapsed": false
   },
   "outputs": [
    {
     "data": {
      "image/png": "[encoded data removed]",
      "text/plain": [
       "<matplotlib.figure.Figure at 0x18bcead1b38>"
      ]
     },
     "metadata": {},
     "output_type": "display_data"
    }
   ],
   "source": [
    "#plot the data in a scatterplot\n",
    "plt.scatter(logr,logfreqr)\n",
    "#plot the best fit line for the data\n",
    "plt.plot(numpy.unique(logr),numpy.poly1d(numpy.polyfit(logr,logfreqr,1))(numpy.unique(logr)))\n",
    "\n",
    "#label the axes and print the graph\n",
    "plt.title('Zipf\\'s Law for Moby Dick')\n",
    "plt.xlabel(\"Log of word rank\")\n",
    "plt.ylabel(\"Log of word frequency\")\n",
    "plt.show()"
   ]
  },
  {
   "cell_type": "markdown",
   "metadata": {},
   "source": [
    "### Conclusion:\n",
    "As seen above, the best fit line of the scatter plot of log(word rank) vs log (word frequency) has a slope of approximately -1, proving that Zipf's law holds for the book Moby Dick by Herman Melville."
   ]
  }
 ],
 "metadata": {
  "anaconda-cloud": {},
  "kernelspec": {
   "display_name": "Python [conda root]",
   "language": "python",
   "name": "conda-root-py"
  },
  "language_info": {
   "codemirror_mode": {
    "name": "ipython",
    "version": 3
   },
   "file_extension": ".py",
   "mimetype": "text/x-python",
   "name": "python",
   "nbconvert_exporter": "python",
   "pygments_lexer": "ipython3",
   "version": "3.5.2"
  }
 },
 "nbformat": 4,
 "nbformat_minor": 1
}
