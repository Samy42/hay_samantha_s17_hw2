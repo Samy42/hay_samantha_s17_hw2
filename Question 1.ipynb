{
 "cells": [
  {
   "cell_type": "markdown",
   "metadata": {},
   "source": [
    "# Question 1\n",
    "Learn and understand Zipf’s Law.\n",
    " Pick any file (or files) in NLTK package.\n",
    " Prove if Zipf’s Law works in Natural Language or not.\n",
    " REQUIREMNTS: (Must Do)\n",
    " Use ’glob’ to open and read file. If read multiple files use LOOP to achieve.\n",
    " Create at least one function and one lambda function.\n",
    " Save your data as an CSV file contains (Word, Rank, Frequency) with TITLE and Sort it by RANK.\n",
    " Open your CSV file, generate a log-log figure according to the data you saved.\n",
    " Write a conclusion at the end of your code base on your figure. \n",
    "Question 1 continue…\n",
    " (Optional) Use ‘matplotlib’ to generate a log-log figure in your code.\n",
    " Before Submission Please Check:\n",
    " Do I have Markdown TITLE at very beginning?\n",
    " Do I use the required method to open and read files?\n",
    " Do I use 'def' and ‘lambda’ in my code?\n",
    " Do I write your code in small blocks instead of in one big block?\n",
    " Do I have proper outputs or comments to show your progress?\n",
    " Do I add TITLE in your CSV file? Is the data well sorted?\n",
    " Do I create the figure with right form(log-log) in your csv file?\n",
    " Do I give the conclusion at the end of your code?\n",
    "ALL DONE? Submit your .ipynb file and your CSV file. DO NOT ZIP!"
   ]
  },
  {
   "cell_type": "code",
   "execution_count": 1,
   "metadata": {
    "collapsed": false
   },
   "outputs": [],
   "source": [
    "import nltk\n",
    "import re\n",
    "from operator import itemgetter\n",
    "import numpy\n",
    "import matplotlib.pyplot as plt\n",
    "import glob\n",
    "import math"
   ]
  },
  {
   "cell_type": "code",
   "execution_count": 2,
   "metadata": {
    "collapsed": true
   },
   "outputs": [],
   "source": [
    "book = nltk.corpus.gutenberg.words('melville-moby_dick.txt')"
   ]
  },
  {
   "cell_type": "code",
   "execution_count": 3,
   "metadata": {
    "collapsed": true
   },
   "outputs": [],
   "source": [
    "book = list(book)"
   ]
  },
  {
   "cell_type": "code",
   "execution_count": 4,
   "metadata": {
    "collapsed": true
   },
   "outputs": [],
   "source": [
    "words = [w for w in book if w.isalpha()]"
   ]
  },
  {
   "cell_type": "code",
   "execution_count": 5,
   "metadata": {
    "collapsed": true
   },
   "outputs": [],
   "source": [
    "uniquewords = list(set(words))"
   ]
  },
  {
   "cell_type": "code",
   "execution_count": 6,
   "metadata": {
    "collapsed": false
   },
   "outputs": [],
   "source": [
    "zipf = []\n",
    "temp=[0]\n",
    "for w in uniquewords:\n",
    "    temp[0] = [0,w,words.count(w)]\n",
    "    zipf.append(temp[0])"
   ]
  },
  {
   "cell_type": "code",
   "execution_count": 7,
   "metadata": {
    "collapsed": false
   },
   "outputs": [],
   "source": [
    "zipf = sorted(zipf,key=itemgetter(2), reverse = True)"
   ]
  },
  {
   "cell_type": "code",
   "execution_count": 8,
   "metadata": {
    "collapsed": true
   },
   "outputs": [],
   "source": [
    "zipfcalc=[0]*len(zipf)"
   ]
  },
  {
   "cell_type": "code",
   "execution_count": 9,
   "metadata": {
    "collapsed": true
   },
   "outputs": [],
   "source": [
    "numwords = len(words)"
   ]
  },
  {
   "cell_type": "code",
   "execution_count": 10,
   "metadata": {
    "collapsed": false
   },
   "outputs": [],
   "source": [
    "for i in range(len(zipf)):\n",
    "    zipf[i][0] = i + 1 #rank\n",
    "    zipfcalc[i] = (zipf[i][0]) * (zipf[i][2]) #rank * freq(r)\n",
    "    zipf[i].append(zipfcalc[i]/numwords) # r*P(r)\n",
    "    zipf[i].append(math.log10(zipf[i][0])) #log(r)\n",
    "    zipf[i].append(math.log10((zipf[i][2]))) #log(freq(r))"
   ]
  },
  {
   "cell_type": "code",
   "execution_count": 11,
   "metadata": {
    "collapsed": false
   },
   "outputs": [
    {
     "data": {
      "text/plain": [
       "[[1, 'the', 13721, 0.0628363123451532, 0.0, 4.13738576433397],\n",
       " [2, 'of', 6536, 0.05986416988381625, 0.3010299956639812, 3.8153120435243593],\n",
       " [3,\n",
       "  'and',\n",
       "  6024,\n",
       "  0.08276203168148158,\n",
       "  0.47712125471966244,\n",
       "  3.7798849631926443],\n",
       " [4, 'a', 4569, 0.08369626444282632, 0.6020599913279624, 3.659821158055705],\n",
       " [5, 'to', 4542, 0.10400208828499595, 0.6989700043360189, 3.6572471298837166],\n",
       " [6, 'in', 3916, 0.10760163215958894, 0.7781512503836436, 3.5928426831311002],\n",
       " [7, 'that', 2982, 0.09559399343289324, 0.8450980400142568, 3.474507639116976],\n",
       " [8, 'his', 2459, 0.09008934745673448, 0.9030899869919435, 3.390758528738717],\n",
       " [9, 'it', 2209, 0.0910464780798769, 0.9542425094393249, 3.344195715871435],\n",
       " [10, 'I', 2124, 0.09727011691648234, 1.0, 3.3271545124094315]]"
      ]
     },
     "execution_count": 11,
     "metadata": {},
     "output_type": "execute_result"
    }
   ],
   "source": [
    "zipf[0:10]"
   ]
  },
  {
   "cell_type": "code",
   "execution_count": 12,
   "metadata": {
    "collapsed": false
   },
   "outputs": [],
   "source": [
    "for n in range(len(zipfcalc)):\n",
    "    zipfcalc[n] = zipfcalc[n] / numwords"
   ]
  },
  {
   "cell_type": "code",
   "execution_count": 13,
   "metadata": {
    "collapsed": false
   },
   "outputs": [
    {
     "data": {
      "text/plain": [
       "0.016142909982725457"
      ]
     },
     "execution_count": 13,
     "metadata": {},
     "output_type": "execute_result"
    }
   ],
   "source": [
    "numpy.std(zipfcalc)"
   ]
  },
  {
   "cell_type": "markdown",
   "metadata": {},
   "source": [
    "As the standard deviation is close to zero, this approximately follows Zipf's law.\n",
    "# below is the file part"
   ]
  },
  {
   "cell_type": "code",
   "execution_count": 14,
   "metadata": {
    "collapsed": false
   },
   "outputs": [],
   "source": [
    "f = open(\"Q1output.csv\",\"w+\")"
   ]
  },
  {
   "cell_type": "code",
   "execution_count": 15,
   "metadata": {
    "collapsed": false
   },
   "outputs": [
    {
     "data": {
      "text/plain": [
       "54"
      ]
     },
     "execution_count": 15,
     "metadata": {},
     "output_type": "execute_result"
    }
   ],
   "source": [
    "#write header\n",
    "f.write(\"Rank(r), Word, Freq(r), r*P(r), log(r), log(Freq(r)) \\n\")"
   ]
  },
  {
   "cell_type": "code",
   "execution_count": 16,
   "metadata": {
    "collapsed": false
   },
   "outputs": [],
   "source": [
    "for i in range(len(zipf)):\n",
    "    for j in range(6):\n",
    "        f.write(str(zipf[i][j]) + \",\")\n",
    "    f.write(\"\\n\")"
   ]
  },
  {
   "cell_type": "code",
   "execution_count": 18,
   "metadata": {
    "collapsed": false
   },
   "outputs": [],
   "source": [
    "f.close()"
   ]
  },
  {
   "cell_type": "code",
   "execution_count": 19,
   "metadata": {
    "collapsed": false
   },
   "outputs": [
    {
     "data": {
      "text/plain": [
       "<function glob.glob>"
      ]
     },
     "execution_count": 19,
     "metadata": {},
     "output_type": "execute_result"
    }
   ],
   "source": [
    "glob.glob"
   ]
  },
  {
   "cell_type": "code",
   "execution_count": 20,
   "metadata": {
    "collapsed": false
   },
   "outputs": [
    {
     "name": "stdout",
     "output_type": "stream",
     "text": [
      "Help on module glob:\n",
      "\n",
      "NAME\n",
      "    glob - Filename globbing utility.\n",
      "\n",
      "FUNCTIONS\n",
      "    escape(pathname)\n",
      "        Escape all special characters.\n",
      "    \n",
      "    glob(pathname, *, recursive=False)\n",
      "        Return a list of paths matching a pathname pattern.\n",
      "        \n",
      "        The pattern may contain simple shell-style wildcards a la\n",
      "        fnmatch. However, unlike fnmatch, filenames starting with a\n",
      "        dot are special cases that are not matched by '*' and '?'\n",
      "        patterns.\n",
      "        \n",
      "        If recursive is true, the pattern '**' will match any files and\n",
      "        zero or more directories and subdirectories.\n",
      "    \n",
      "    iglob(pathname, *, recursive=False)\n",
      "        Return an iterator which yields the paths matching a pathname pattern.\n",
      "        \n",
      "        The pattern may contain simple shell-style wildcards a la\n",
      "        fnmatch. However, unlike fnmatch, filenames starting with a\n",
      "        dot are special cases that are not matched by '*' and '?'\n",
      "        patterns.\n",
      "        \n",
      "        If recursive is true, the pattern '**' will match any files and\n",
      "        zero or more directories and subdirectories.\n",
      "\n",
      "DATA\n",
      "    __all__ = ['glob', 'iglob', 'escape']\n",
      "\n",
      "FILE\n",
      "    c:\\users\\samy hay\\anaconda3\\lib\\glob.py\n",
      "\n",
      "\n"
     ]
    }
   ],
   "source": [
    "help(glob)"
   ]
  },
  {
   "cell_type": "code",
   "execution_count": null,
   "metadata": {
    "collapsed": true
   },
   "outputs": [],
   "source": []
  }
 ],
 "metadata": {
  "anaconda-cloud": {},
  "kernelspec": {
   "display_name": "Python [conda root]",
   "language": "python",
   "name": "conda-root-py"
  },
  "language_info": {
   "codemirror_mode": {
    "name": "ipython",
    "version": 3
   },
   "file_extension": ".py",
   "mimetype": "text/x-python",
   "name": "python",
   "nbconvert_exporter": "python",
   "pygments_lexer": "ipython3",
   "version": "3.5.2"
  }
 },
 "nbformat": 4,
 "nbformat_minor": 1
}
