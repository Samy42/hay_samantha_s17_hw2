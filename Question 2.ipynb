{
 "cells": [
  {
   "cell_type": "markdown",
   "metadata": {},
   "source": [
    "# Question 2\n",
    "## Part 1\n",
    "* Read all the json files in the folder called Data.\n",
    "* There are three categories of json files in this folder. They are identified by the key called “term” in each of the json file.\n",
    "* Create a folder structure to read all these json files and store them into these separate folders. You are expected to create a hierarchy of folder structure.\n",
    "\n",
    "##### Output Format:\n",
    "* Create a folder (Name: Data Processed)\n",
    "* In this folder you should have a hierarchy of folder structures\n"
   ]
  },
  {
   "cell_type": "code",
   "execution_count": 1,
   "metadata": {
    "collapsed": true
   },
   "outputs": [],
   "source": [
    "from glob import glob\n",
    "import os\n",
    "import ast\n",
    "import json\n",
    "from shutil import copy"
   ]
  },
  {
   "cell_type": "code",
   "execution_count": 2,
   "metadata": {
    "collapsed": false
   },
   "outputs": [],
   "source": [
    "#create a list of all json files in the Data folder\n",
    "datafiles = glob('./Data/*.json')"
   ]
  },
  {
   "cell_type": "code",
   "execution_count": 3,
   "metadata": {
    "collapsed": true
   },
   "outputs": [],
   "source": [
    "#creates a folder if non exists at that path with that name, otherwise does nothing\n",
    "def addFolder(folderpath):\n",
    "    if not os.path.isdir(folderpath):\n",
    "        os.makedirs(folderpath)"
   ]
  },
  {
   "cell_type": "code",
   "execution_count": 4,
   "metadata": {
    "collapsed": false
   },
   "outputs": [],
   "source": [
    "addFolder('Data_Processed')"
   ]
  },
  {
   "cell_type": "code",
   "execution_count": 5,
   "metadata": {
    "collapsed": false
   },
   "outputs": [],
   "source": [
    "#read all data from the json files to derermine inner data\n",
    "jsondata=[]\n",
    "for file in datafiles:\n",
    "    f = open(file,'r')\n",
    "    jsondata.append([file , json.load(f)])\n",
    "    f.close()"
   ]
  },
  {
   "cell_type": "code",
   "execution_count": 6,
   "metadata": {
    "collapsed": false
   },
   "outputs": [],
   "source": [
    "#pulls the 'term' key from each file\n",
    "term = []\n",
    "for i in range(len(datafiles)):\n",
    "    term.append(jsondata[i][1]['term'])"
   ]
  },
  {
   "cell_type": "code",
   "execution_count": 7,
   "metadata": {
    "collapsed": true
   },
   "outputs": [],
   "source": [
    "#create one folder for each term type\n",
    "for t in set(term):\n",
    "    addFolder('Data_Processed/' + t)"
   ]
  },
  {
   "cell_type": "code",
   "execution_count": 8,
   "metadata": {
    "collapsed": false
   },
   "outputs": [],
   "source": [
    "#create list of all cities from the json files\n",
    "locations = []\n",
    "for i in range(len(datafiles)):\n",
    "    locations.append([jsondata[i][1]['location']['country'],\n",
    "                      jsondata[i][1]['location']['state'],\n",
    "                      jsondata[i][1]['location']['city']])"
   ]
  },
  {
   "cell_type": "code",
   "execution_count": 9,
   "metadata": {
    "collapsed": false
   },
   "outputs": [],
   "source": [
    "#create one folder for each country location\n",
    "for l in set(locations[0]):\n",
    "    for t in set(term):\n",
    "        addFolder('Data_Processed/' + t + '/' + l)"
   ]
  },
  {
   "cell_type": "code",
   "execution_count": 10,
   "metadata": {
    "collapsed": false
   },
   "outputs": [],
   "source": [
    "#sort data into folders by type (i.e. restaurant, hotel, or attraction)\n",
    "for i in range(len(term)):\n",
    "    copy(datafiles[i],'Data_Processed/' + term[i] + '/' + locations[i][0] +'/'+ datafiles[i][7:])"
   ]
  },
  {
   "cell_type": "markdown",
   "metadata": {},
   "source": [
    "## Part 2\n",
    "* Read all the json files in the folder called Data.\n",
    "* Read only the json files which contain the key called “restaurants”\n",
    "* Each (or most of the json files) contain a key called “open” which contains the details of the operation (timings) of the restaurants. For each json file, read the timings of the restaurants.\n",
    "* Data of the operation timings of the restaurants is present for each day of the week. I want you to extract each of this data and write it in an excel sheet."
   ]
  },
  {
   "cell_type": "code",
   "execution_count": 11,
   "metadata": {
    "collapsed": false,
    "scrolled": true
   },
   "outputs": [],
   "source": [
    "#build output\n",
    "excel = []\n",
    "for i in range(len(datafiles)):\n",
    "    temp =[]\n",
    "    if term[i] == 'restaurants' and 'hours' in (jsondata[i][1]).keys(): #only read restaurant data\n",
    "        temp.append(jsondata[i][1]['name']) #restaurant name\n",
    "        temp.append(locations[i][2]) #city\n",
    "        temp.append(locations[i][0]) #country\n",
    "        \n",
    "        for d in range(len(jsondata[i][1]['hours'][0]['open'])):\n",
    "            \n",
    "            # pull in open and close times for each day of the week\n",
    "            temp.append([jsondata[i][1]['hours'][0]['open'][d]['day'],\n",
    "                         jsondata[i][1]['hours'][0]['open'][d]['start'],\n",
    "                         jsondata[i][1]['hours'][0]['open'][d]['end']])\n",
    "        excel.append(temp)"
   ]
  },
  {
   "cell_type": "code",
   "execution_count": 12,
   "metadata": {
    "collapsed": true
   },
   "outputs": [],
   "source": [
    "#this function takes in a 4 digit number or string and formats it as a time.\n",
    "#It will also convert from a 24-hour scale to a 12-hour scale and add the \n",
    "#'am' or 'pm note.\n",
    "\n",
    "def formatTime(time):\n",
    "    time = str(time)\n",
    "    if (time[0] == '1' and int(time[1]) > 1)  or time[0] == '2':\n",
    "        temp = int(time[0])*10 + int(time[1])\n",
    "        temp = temp - 12\n",
    "        mm = 'pm'\n",
    "    else:\n",
    "        mm = 'am'\n",
    "        temp = time[0:2]\n",
    "    \n",
    "    return (str(temp) + ':' + time[2:4] + mm)\n",
    "\n",
    "\n",
    "#NOTE FOR TA: Please give me the bonus credit for this. It is the same intent as the bonus\n",
    "#(same action), but a lot prettier in the output. Also it outputs in a format \n",
    "# that excel can intrepret"
   ]
  },
  {
   "cell_type": "code",
   "execution_count": 13,
   "metadata": {
    "collapsed": false
   },
   "outputs": [],
   "source": [
    "#open file and use UTF encoding to support foreign letters\n",
    "c = open(\"Data_Processed/Q2output.csv\",'w+',encoding = 'utf-8')\n",
    "\n",
    "#print headers\n",
    "c.write('Name of Restaurant, City, Country Code, Day of Week, Start Time, End Time\\n')\n",
    "\n",
    "#write excel list to file\n",
    "for i in range(len(excel)):\n",
    "    #write restaurant name, city, and country to file\n",
    "    \n",
    "    for j in range(len(excel[i])-3):\n",
    "        #write restaurant name, city, and country to file\n",
    "        c.write(excel[i][0] + \",\" +  excel[i][1] + \",\" +  excel[i][2] + \",\")\n",
    "        \n",
    "        #write day, start time, and end time\n",
    "        c.write(str(excel[i][j+3][0]) + ',' + formatTime(excel[i][j+3][1]) + ',' + formatTime(excel[i][j+3][1]))\n",
    "        \n",
    "        #next row\n",
    "        c.write('\\n')\n",
    "        \n",
    "#close file\n",
    "c.close()"
   ]
  }
 ],
 "metadata": {
  "anaconda-cloud": {},
  "kernelspec": {
   "display_name": "Python [conda root]",
   "language": "python",
   "name": "conda-root-py"
  },
  "language_info": {
   "codemirror_mode": {
    "name": "ipython",
    "version": 3
   },
   "file_extension": ".py",
   "mimetype": "text/x-python",
   "name": "python",
   "nbconvert_exporter": "python",
   "pygments_lexer": "ipython3",
   "version": "3.5.2"
  }
 },
 "nbformat": 4,
 "nbformat_minor": 1
}
