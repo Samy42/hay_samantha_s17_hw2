{
 "cells": [
  {
   "cell_type": "markdown",
   "metadata": {},
   "source": [
    "Question 2\n",
    "Part 1\n",
    "Read all the json files in the folder called Data.\n",
    " There are three categories of json files in this folder. They are identified by the key\n",
    "called “term” in each of the json file.\n",
    " Create a folder structure to read all these json files and store them into these separate\n",
    "folders. You are expected to create a hierarchy of folder structure.\n",
    " Example:\n",
    " You can place all restaurants json files in a particular country (say Australia) in the\n",
    "same folder. How you group the json files and create a folder structure is your choice.\n",
    "Your task is to identify criteria by which you can group all these json files and store\n",
    "them.\n",
    " (You could use these keys to create hierarchy and store json files: Country, city,\n",
    "categories)\n",
    " Output Format:\n",
    " Create a folder (Name: Data Processed)\n",
    " In this folder you should have a hierarchy of folder structures\n"
   ]
  },
  {
   "cell_type": "code",
   "execution_count": 1,
   "metadata": {
    "collapsed": true
   },
   "outputs": [],
   "source": [
    "from glob import glob\n",
    "import os\n",
    "import ast\n",
    "import json\n",
    "from shutil import copy"
   ]
  },
  {
   "cell_type": "code",
   "execution_count": 2,
   "metadata": {
    "collapsed": false
   },
   "outputs": [],
   "source": [
    "#create a list of all json files in the Data folder\n",
    "datafiles = glob('./Data/*.json')"
   ]
  },
  {
   "cell_type": "code",
   "execution_count": 3,
   "metadata": {
    "collapsed": true
   },
   "outputs": [],
   "source": [
    "#creates a folder if non exists at that path with that name, otherwise does nothing\n",
    "def addFolder(folderpath):\n",
    "    if not os.path.isdir(folderpath):\n",
    "        os.makedirs(folderpath)"
   ]
  },
  {
   "cell_type": "code",
   "execution_count": 4,
   "metadata": {
    "collapsed": false
   },
   "outputs": [],
   "source": [
    "addFolder('Data_Processed')"
   ]
  },
  {
   "cell_type": "code",
   "execution_count": 5,
   "metadata": {
    "collapsed": false
   },
   "outputs": [],
   "source": [
    "#read all data from the json files to derermine inner data\n",
    "jsondata=[]\n",
    "for file in datafiles:\n",
    "    f = open(file,'r')\n",
    "    jsondata.append([file , json.load(f)])\n",
    "    f.close()"
   ]
  },
  {
   "cell_type": "code",
   "execution_count": 6,
   "metadata": {
    "collapsed": false
   },
   "outputs": [],
   "source": [
    "#pulls the 'term' key from each file\n",
    "term = []\n",
    "for i in range(len(datafiles)):\n",
    "    term.append(jsondata[i][1]['term'])"
   ]
  },
  {
   "cell_type": "code",
   "execution_count": 7,
   "metadata": {
    "collapsed": true
   },
   "outputs": [],
   "source": [
    "#create one folder for each term type\n",
    "for t in set(term):\n",
    "    addFolder('Data_Processed/' + t)"
   ]
  },
  {
   "cell_type": "code",
   "execution_count": 13,
   "metadata": {
    "collapsed": false
   },
   "outputs": [],
   "source": [
    "#create list of all cities from the json files\n",
    "locations = []\n",
    "for i in range(len(datafiles)):\n",
    "    locations.append([jsondata[i][1]['location']['country'],\n",
    "                      jsondata[i][1]['location']['state'],\n",
    "                      jsondata[i][1]['location']['city']])"
   ]
  },
  {
   "cell_type": "code",
   "execution_count": 9,
   "metadata": {
    "collapsed": true
   },
   "outputs": [],
   "source": [
    "#create one folder for each country location\n",
    "for l in set(locations):\n",
    "    for t in set(term):\n",
    "        addFolder('Data_Processed/' + t + '/' + l)"
   ]
  },
  {
   "cell_type": "code",
   "execution_count": 10,
   "metadata": {
    "collapsed": false
   },
   "outputs": [],
   "source": [
    "#sort data into folders by type (i.e. restaurant, hotel, or attraction)\n",
    "for i in range(len(term)):\n",
    "    copy(datafiles[i],'Data_Processed/' + term[i] + '/' + locations[i][0] +'/'+ datafiles[i][7:])"
   ]
  },
  {
   "cell_type": "markdown",
   "metadata": {},
   "source": [
    "Part 2\n",
    "Read all the json files in the folder called Data.\n",
    " Read only the json files which contain the key called “restaurants”\n",
    " Each (or most of the json files) contain a key called “open” which contains the details\n",
    "of the operation (timings) of the restaurants. For each json file, read the timings of the\n",
    "restaurants.\n",
    " Data of the operation timings of the restaurants is present for each day of the week. I\n",
    "want you to extract each of this data and write it in an excel sheet.\n",
    " Example:\n",
    " For a particular restaurant named “The Coffee Grounds”, the excel sheet should look\n",
    "like this: (see ppt for table)"
   ]
  },
  {
   "cell_type": "code",
   "execution_count": 66,
   "metadata": {
    "collapsed": false,
    "scrolled": true
   },
   "outputs": [],
   "source": [
    "#build output\n",
    "excel = []\n",
    "for i in range(len(datafiles)):\n",
    "    temp =[]\n",
    "    if term[i] == 'restaurants' and 'hours' in (jsondata[i][1]).keys(): #only read restaurant data\n",
    "        temp.append(jsondata[i][1]['name']) #restaurant name\n",
    "        temp.append(locations[i][2]) #city\n",
    "        temp.append(locations[i][0]) #country\n",
    "        for d in range(len(jsondata[i][1]['hours'][0]['open'])):\n",
    "            # pull in open and close times for each day of the week\n",
    "            temp.append([jsondata[i][1]['hours'][0]['open'][d]['day'],\n",
    "                         jsondata[i][1]['hours'][0]['open'][d]['start'],\n",
    "                         jsondata[i][1]['hours'][0]['open'][d]['end']])\n",
    "        excel.append(temp)"
   ]
  },
  {
   "cell_type": "code",
   "execution_count": 72,
   "metadata": {
    "collapsed": false
   },
   "outputs": [
    {
     "data": {
      "text/plain": [
       "['#1 Chinese Kitchen',\n",
       " 'San Jose',\n",
       " 'US',\n",
       " [0, '1100', '2100'],\n",
       " [2, '1100', '2100'],\n",
       " [3, '1100', '2100'],\n",
       " [4, '1100', '2100'],\n",
       " [5, '1100', '2100'],\n",
       " [6, '1100', '2100']]"
      ]
     },
     "execution_count": 72,
     "metadata": {},
     "output_type": "execute_result"
    }
   ],
   "source": [
    "excel[3]"
   ]
  },
  {
   "cell_type": "code",
   "execution_count": 86,
   "metadata": {
    "collapsed": false
   },
   "outputs": [
    {
     "data": {
      "text/plain": [
       "[3, 4, 5, 6]"
      ]
     },
     "execution_count": 86,
     "metadata": {},
     "output_type": "execute_result"
    }
   ],
   "source": [
    "l = list(range(3,7))\n",
    "l"
   ]
  },
  {
   "cell_type": "code",
   "execution_count": 82,
   "metadata": {
    "collapsed": false
   },
   "outputs": [
    {
     "ename": "SyntaxError",
     "evalue": "invalid syntax (<ipython-input-82-e8a6fc72c3f1>, line 1)",
     "output_type": "error",
     "traceback": [
      "\u001b[0;36m  File \u001b[0;32m\"<ipython-input-82-e8a6fc72c3f1>\"\u001b[0;36m, line \u001b[0;32m1\u001b[0m\n\u001b[0;31m    l =[3:7]\u001b[0m\n\u001b[0m         ^\u001b[0m\n\u001b[0;31mSyntaxError\u001b[0m\u001b[0;31m:\u001b[0m invalid syntax\n"
     ]
    }
   ],
   "source": [
    "l = [3:7]\n",
    "l"
   ]
  },
  {
   "cell_type": "code",
   "execution_count": 70,
   "metadata": {
    "collapsed": false
   },
   "outputs": [
    {
     "data": {
      "text/plain": [
       "130"
      ]
     },
     "execution_count": 70,
     "metadata": {},
     "output_type": "execute_result"
    }
   ],
   "source": [
    "c = open(\"Data_Processed/Q2output.csv\",'w+')\n",
    "c.write('Name of Restaurant, City, Country Code, Day 1 Hours, Day 2 Hours, Day 3 Hours, Day 4 Hours, Day 5 Hours, Day 6 Hours, Day 7 Hours\\n')"
   ]
  },
  {
   "cell_type": "code",
   "execution_count": 93,
   "metadata": {
    "collapsed": false
   },
   "outputs": [
    {
     "ename": "UnicodeEncodeError",
     "evalue": "'charmap' codec can't encode character '\\u012a' in position 2: character maps to <undefined>",
     "output_type": "error",
     "traceback": [
      "\u001b[0;31m---------------------------------------------------------------------------\u001b[0m",
      "\u001b[0;31mUnicodeEncodeError\u001b[0m                        Traceback (most recent call last)",
      "\u001b[0;32m<ipython-input-93-c8fd1e6730a2>\u001b[0m in \u001b[0;36m<module>\u001b[0;34m()\u001b[0m\n\u001b[1;32m      2\u001b[0m \u001b[1;32mfor\u001b[0m \u001b[0mi\u001b[0m \u001b[1;32min\u001b[0m \u001b[0mrange\u001b[0m\u001b[1;33m(\u001b[0m\u001b[0mlen\u001b[0m\u001b[1;33m(\u001b[0m\u001b[0mexcel\u001b[0m\u001b[1;33m)\u001b[0m\u001b[1;33m)\u001b[0m\u001b[1;33m:\u001b[0m\u001b[1;33m\u001b[0m\u001b[0m\n\u001b[1;32m      3\u001b[0m     \u001b[1;31m#write restaurant name, city, and country to file\u001b[0m\u001b[1;33m\u001b[0m\u001b[1;33m\u001b[0m\u001b[0m\n\u001b[0;32m----> 4\u001b[0;31m     \u001b[0mc\u001b[0m\u001b[1;33m.\u001b[0m\u001b[0mwrite\u001b[0m\u001b[1;33m(\u001b[0m\u001b[0mexcel\u001b[0m\u001b[1;33m[\u001b[0m\u001b[0mi\u001b[0m\u001b[1;33m]\u001b[0m\u001b[1;33m[\u001b[0m\u001b[1;36m0\u001b[0m\u001b[1;33m]\u001b[0m \u001b[1;33m+\u001b[0m \u001b[1;34m\",\"\u001b[0m \u001b[1;33m+\u001b[0m  \u001b[0mexcel\u001b[0m\u001b[1;33m[\u001b[0m\u001b[0mi\u001b[0m\u001b[1;33m]\u001b[0m\u001b[1;33m[\u001b[0m\u001b[1;36m1\u001b[0m\u001b[1;33m]\u001b[0m \u001b[1;33m+\u001b[0m \u001b[1;34m\",\"\u001b[0m \u001b[1;33m+\u001b[0m  \u001b[0mexcel\u001b[0m\u001b[1;33m[\u001b[0m\u001b[0mi\u001b[0m\u001b[1;33m]\u001b[0m\u001b[1;33m[\u001b[0m\u001b[1;36m2\u001b[0m\u001b[1;33m]\u001b[0m \u001b[1;33m+\u001b[0m \u001b[1;34m\",\"\u001b[0m\u001b[1;33m)\u001b[0m\u001b[1;33m\u001b[0m\u001b[0m\n\u001b[0m\u001b[1;32m      5\u001b[0m \u001b[1;33m\u001b[0m\u001b[0m\n\u001b[1;32m      6\u001b[0m \u001b[1;33m\u001b[0m\u001b[0m\n",
      "\u001b[0;32mC:\\Users\\Samy Hay\\Anaconda3\\lib\\encodings\\cp1252.py\u001b[0m in \u001b[0;36mencode\u001b[0;34m(self, input, final)\u001b[0m\n\u001b[1;32m     17\u001b[0m \u001b[1;32mclass\u001b[0m \u001b[0mIncrementalEncoder\u001b[0m\u001b[1;33m(\u001b[0m\u001b[0mcodecs\u001b[0m\u001b[1;33m.\u001b[0m\u001b[0mIncrementalEncoder\u001b[0m\u001b[1;33m)\u001b[0m\u001b[1;33m:\u001b[0m\u001b[1;33m\u001b[0m\u001b[0m\n\u001b[1;32m     18\u001b[0m     \u001b[1;32mdef\u001b[0m \u001b[0mencode\u001b[0m\u001b[1;33m(\u001b[0m\u001b[0mself\u001b[0m\u001b[1;33m,\u001b[0m \u001b[0minput\u001b[0m\u001b[1;33m,\u001b[0m \u001b[0mfinal\u001b[0m\u001b[1;33m=\u001b[0m\u001b[1;32mFalse\u001b[0m\u001b[1;33m)\u001b[0m\u001b[1;33m:\u001b[0m\u001b[1;33m\u001b[0m\u001b[0m\n\u001b[0;32m---> 19\u001b[0;31m         \u001b[1;32mreturn\u001b[0m \u001b[0mcodecs\u001b[0m\u001b[1;33m.\u001b[0m\u001b[0mcharmap_encode\u001b[0m\u001b[1;33m(\u001b[0m\u001b[0minput\u001b[0m\u001b[1;33m,\u001b[0m\u001b[0mself\u001b[0m\u001b[1;33m.\u001b[0m\u001b[0merrors\u001b[0m\u001b[1;33m,\u001b[0m\u001b[0mencoding_table\u001b[0m\u001b[1;33m)\u001b[0m\u001b[1;33m[\u001b[0m\u001b[1;36m0\u001b[0m\u001b[1;33m]\u001b[0m\u001b[1;33m\u001b[0m\u001b[0m\n\u001b[0m\u001b[1;32m     20\u001b[0m \u001b[1;33m\u001b[0m\u001b[0m\n\u001b[1;32m     21\u001b[0m \u001b[1;32mclass\u001b[0m \u001b[0mIncrementalDecoder\u001b[0m\u001b[1;33m(\u001b[0m\u001b[0mcodecs\u001b[0m\u001b[1;33m.\u001b[0m\u001b[0mIncrementalDecoder\u001b[0m\u001b[1;33m)\u001b[0m\u001b[1;33m:\u001b[0m\u001b[1;33m\u001b[0m\u001b[0m\n",
      "\u001b[0;31mUnicodeEncodeError\u001b[0m: 'charmap' codec can't encode character '\\u012a' in position 2: character maps to <undefined>"
     ]
    }
   ],
   "source": [
    "#write excel list to file\n",
    "for i in range(len(excel)):\n",
    "    #write restaurant name, city, and country to file\n",
    "    c.write(excel[i][0] + \",\" +  excel[i][1] + \",\" +  excel[i][2] + \",\")\n",
    "    \n",
    "    \n",
    "    for j in range(len(excel[i])-3):\n",
    "        for d in range(j,7):\n",
    "            if excel[i][j+3][0] == d:\n",
    "                #format and print times\n",
    "                break\n",
    "            else:\n",
    "                c.write(',')\n",
    "    c.write('\\n')\n",
    "        \n",
    "            "
   ]
  },
  {
   "cell_type": "code",
   "execution_count": null,
   "metadata": {
    "collapsed": true
   },
   "outputs": [],
   "source": [
    "c.close()"
   ]
  },
  {
   "cell_type": "code",
   "execution_count": 95,
   "metadata": {
    "collapsed": false
   },
   "outputs": [
    {
     "data": {
      "text/plain": [
       "'CRĪO Bar and Restaurant'"
      ]
     },
     "execution_count": 95,
     "metadata": {},
     "output_type": "execute_result"
    }
   ],
   "source": [
    "excel[i][0]"
   ]
  },
  {
   "cell_type": "code",
   "execution_count": 90,
   "metadata": {
    "collapsed": false
   },
   "outputs": [
    {
     "data": {
      "text/plain": [
       "False"
      ]
     },
     "execution_count": 90,
     "metadata": {},
     "output_type": "execute_result"
    }
   ],
   "source": [
    "[0] is [0]"
   ]
  },
  {
   "cell_type": "code",
   "execution_count": 100,
   "metadata": {
    "collapsed": true
   },
   "outputs": [],
   "source": [
    "def formatTime(time):\n",
    "    time = str(time)\n",
    "    if (time[0] == '1' and int(time[1]) > 1)  or time[0] == '2':\n",
    "        temp = int(time[0])*10 + int(time[1])\n",
    "        temp = temp - 12\n",
    "        mm = 'pm'\n",
    "    else:\n",
    "        mm = 'am'\n",
    "        temp = time[0:2]\n",
    "    \n",
    "    return (str(temp) + ':' + time[2:4] + mm)"
   ]
  },
  {
   "cell_type": "code",
   "execution_count": 102,
   "metadata": {
    "collapsed": false
   },
   "outputs": [
    {
     "data": {
      "text/plain": [
       "'3:00pm'"
      ]
     },
     "execution_count": 102,
     "metadata": {},
     "output_type": "execute_result"
    }
   ],
   "source": [
    "formatTime('1500')"
   ]
  }
 ],
 "metadata": {
  "anaconda-cloud": {},
  "kernelspec": {
   "display_name": "Python [conda root]",
   "language": "python",
   "name": "conda-root-py"
  },
  "language_info": {
   "codemirror_mode": {
    "name": "ipython",
    "version": 3
   },
   "file_extension": ".py",
   "mimetype": "text/x-python",
   "name": "python",
   "nbconvert_exporter": "python",
   "pygments_lexer": "ipython3",
   "version": "3.5.2"
  }
 },
 "nbformat": 4,
 "nbformat_minor": 1
}
